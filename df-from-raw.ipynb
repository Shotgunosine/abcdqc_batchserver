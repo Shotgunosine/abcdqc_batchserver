{
 "cells": [
  {
   "cell_type": "code",
   "execution_count": 2,
   "metadata": {},
   "outputs": [],
   "source": [
    "import pandas as pd\n",
    "import os\n",
    "import re\n",
    "import json\n",
    "import time\n",
    "\n",
    "jsonList = []\n",
    "for root, dirs, files in os.walk(\"/abcdqc_data/mriqc/\"):\n",
    "    for filename in files:\n",
    "        if re.match(\".*json$\", filename) is not None:\n",
    "            jsonList.append(root + '/' + filename)"
   ]
  },
  {
   "cell_type": "code",
   "execution_count": 8,
   "metadata": {},
   "outputs": [
    {
     "name": "stdout",
     "output_type": "stream",
     "text": [
      "0/37801,0.0003552436828613281 seconds\n",
      "100/37801,0.7514166831970215 seconds\n",
      "200/37801,1.490677833557129 seconds\n",
      "300/37801,2.3446412086486816 seconds\n",
      "400/37801,3.189572811126709 seconds\n",
      "500/37801,4.035845041275024 seconds\n",
      "600/37801,4.904672145843506 seconds\n",
      "700/37801,5.730926990509033 seconds\n",
      "800/37801,6.554660320281982 seconds\n",
      "900/37801,7.375546932220459 seconds\n"
     ]
    }
   ],
   "source": [
    "# https://stackoverflow.com/questions/52782024/reading-dictionary-stored-on-text-file-and-convert-to-pandas-dataframe\n",
    "#dfs = {k: pd.Series(v) for k,v in r.json().items()}\n",
    "\n",
    "def readjson(file):\n",
    "    with open(file) as f:\n",
    "        jsonstr = json.load(f)\n",
    "\n",
    "    return(pd.io.json.json_normalize(jsonstr))\n",
    "\n",
    "#df = readjson(jsonList[0])\n",
    "\n",
    "count = 1\n",
    "df = []\n",
    "start_time = time.time()\n",
    "for ji, file in enumerate(jsonList[:1000]):\n",
    "    if ji % 100 == 0:\n",
    "        print(str(ji) + \"/\" + str(len(jsonList)) + \",\" + str(time.time() - start_time) + \" seconds\", flush=True)\n",
    "    df.append(readjson(file))\n",
    "df = pd.concat(df, sort=True)\n",
    "# uncomment to allow tracking progress\n",
    "#print(str(count) + \"/\" + str(len(jsonList)) + \",\" + str(time.time() - start_time) + \" seconds\")"
   ]
  },
  {
   "cell_type": "code",
   "execution_count": 22,
   "metadata": {},
   "outputs": [],
   "source": [
    "df.to_csv('/abcdqc_data/batchserver/output/df.csv')"
   ]
  },
  {
   "cell_type": "code",
   "execution_count": null,
   "metadata": {},
   "outputs": [],
   "source": []
  }
 ],
 "metadata": {
  "kernelspec": {
   "display_name": "Python 3",
   "language": "python",
   "name": "python3"
  },
  "language_info": {
   "codemirror_mode": {
    "name": "ipython",
    "version": 3
   },
   "file_extension": ".py",
   "mimetype": "text/x-python",
   "name": "python",
   "nbconvert_exporter": "python",
   "pygments_lexer": "ipython3",
   "version": "3.7.2"
  }
 },
 "nbformat": 4,
 "nbformat_minor": 2
}
