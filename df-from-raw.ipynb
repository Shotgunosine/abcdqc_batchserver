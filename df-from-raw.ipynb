{
 "cells": [
  {
   "cell_type": "code",
   "execution_count": 23,
   "metadata": {},
   "outputs": [],
   "source": [
    "import pandas as pd\n",
    "import os\n",
    "import re\n",
    "import json\n",
    "import time\n",
    "\n",
    "jsonList = []\n",
    "for root, dirs, files in os.walk(\"/abcdqc_data/mriqc/\"):\n",
    "    for filename in files:\n",
    "        if re.match(\".*json$\", filename) is not None:\n",
    "            jsonList.append(root + '/' + filename)"
   ]
  },
  {
   "cell_type": "code",
   "execution_count": null,
   "metadata": {},
   "outputs": [],
   "source": [
    "# https://stackoverflow.com/questions/52782024/reading-dictionary-stored-on-text-file-and-convert-to-pandas-dataframe\n",
    "#dfs = {k: pd.Series(v) for k,v in r.json().items()}\n",
    "\n",
    "def readjson(file):\n",
    "    with open(file) as f:\n",
    "        jsonstr = json.load(f)\n",
    "\n",
    "    return(pd.io.json.json_normalize(jsonstr))\n",
    "\n",
    "df = readjson(jsonList[0])\n",
    "\n",
    "count = 1\n",
    "start_time = time.time()\n",
    "for file in jsonList[1:]:\n",
    "    print(str(count) + \"/\" + str(len(jsonList)) + \",\" + str(time.time() - start_time) + \" seconds\")\n",
    "    df = df.append(readjson(jsonList[1]), sort=True)\n",
    "    count += 1\n",
    "# uncomment to allow tracking progress\n",
    "#print(str(count) + \"/\" + str(len(jsonList)) + \",\" + str(time.time() - start_time) + \" seconds\")"
   ]
  },
  {
   "cell_type": "code",
   "execution_count": 22,
   "metadata": {},
   "outputs": [],
   "source": [
    "df.to_csv('/abcdqc_data/batchserver/output/df.csv')"
   ]
  },
  {
   "cell_type": "code",
   "execution_count": null,
   "metadata": {},
   "outputs": [],
   "source": []
  }
 ],
 "metadata": {
  "kernelspec": {
   "display_name": "Python 3",
   "language": "python",
   "name": "python3"
  },
  "language_info": {
   "codemirror_mode": {
    "name": "ipython",
    "version": 3
   },
   "file_extension": ".py",
   "mimetype": "text/x-python",
   "name": "python",
   "nbconvert_exporter": "python",
   "pygments_lexer": "ipython3",
   "version": "3.7.1"
  }
 },
 "nbformat": 4,
 "nbformat_minor": 2
}
